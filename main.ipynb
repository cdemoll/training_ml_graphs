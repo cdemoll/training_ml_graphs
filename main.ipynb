{
 "cells": [
  {
   "attachments": {},
   "cell_type": "markdown",
   "metadata": {},
   "source": [
    "# ML Graphs Training"
   ]
  },
  {
   "attachments": {},
   "cell_type": "markdown",
   "metadata": {},
   "source": [
    "**Graphs** (or networks) are composed of **nodes** (or vertices) connected by **edges** (or links).\n",
    "\n",
    "We can consider a **community** (or subgraph) a part of the original graph.\n",
    "\n",
    "Relationship between 2 connected nodes can be: \n",
    "* **directed** (ex: A follows B does not imply that B follows A) phone calls, or following on twitter.\n",
    "* **undirect** (ex: A follow B implies B follows A) collaborations or friendship on Facebook\n",
    "<br><br>\n",
    "\n",
    "Node's centrality is the importance of the node in the graph.  \n",
    "\n",
    "The node **degree** is the quantity of direct neighbour it has.  \n",
    "\n",
    "The **clustering coefficient** measures how connected the neighbour nodes are.  \n",
    "\n",
    "Graphlets **degree vectors** count how many different graphlets are rooted at a given node.\n",
    "**Edge-level** features complement the representation with more detailed information about the connecedness of the nodes (including shortest distance, and their Katz-index)\n",
    "\n",
    "**ego-network** is the degree 1 network related to a said node. It forms graphlets or triangles.\n",
    "\n",
    "**Graph level features** contain high-level information about graph similarity and specificities.\n",
    "\n",
    "**Kernel methods** measure similarity between graphs through different \"bag of nodes\" methods (similar to bag of words)\n",
    "\n",
    "**Bipartite graphs** are graphs whose nodes can be divided into two disjoint sets U and V such all edges are observed between U and V but both remains indepedent. (Authors-to-papers)\n",
    "\n",
    "Also see **self-edges (self-loop) graphs** and **multigraphs**.\n",
    "\n",
    "**Strongly connected direct graph** means that all nodes can have direct connection to each others. From which derivates **strongly connected components** (SCCs) which are communities."
   ]
  },
  {
   "attachments": {},
   "cell_type": "markdown",
   "metadata": {},
   "source": [
    "Most networks in real world are really sparse and their adjacency matrix will contain a lot of 0s.\n",
    "\n",
    "This is why adjacency list are used when networks are large and sparse."
   ]
  },
  {
   "attachments": {},
   "cell_type": "markdown",
   "metadata": {},
   "source": [
    "## Graph Neural Networks"
   ]
  },
  {
   "cell_type": "markdown",
   "metadata": {},
   "source": [
    "There are 3 types of tasks:\n",
    "* Node-level prediction\n",
    "* Link-level prediction\n",
    "* Graph-level prediction"
   ]
  },
  {
   "attachments": {},
   "cell_type": "markdown",
   "metadata": {},
   "source": [
    "Typical neural networks are not compatible with graphs, in fact they are not permutation invariant.\n",
    "\n",
    "A GNN layer represents a node as the combination of the representations (**aggregation**) of its neighbours and itself from the previous layer (**message passing**), plus usually an activation function to add some nonlinearity,"
   ]
  },
  {
   "attachments": {},
   "cell_type": "markdown",
   "metadata": {},
   "source": [
    "Different types of network's design exists:\n",
    "\n",
    "* ***Graph Convolutional Networks*** average the normalised representation of the neighbours for a node (most GNNs are GCNs).\n",
    "* ***Graph Attention Networks*** learn to weigh the different neighbors based on their importance (like transformers).\n",
    "* ***GraphSAGE*** sameples neighbours at different hops before aggregating their information in several steps with max pooling.\n",
    "* ***Graph Isomorphism Networks*** aggregate representation by applying an MLP to the sum of the neighbours' node representations.\n",
    "\n",
    "Min Max pooling can encounter failures (ex: 1,1,-1,-1 avg to 0 and -1,0,1 avg to 0 therefor does not differenciate the 2 representations)."
   ]
  },
  {
   "attachments": {},
   "cell_type": "markdown",
   "metadata": {},
   "source": [
    "## GNN shape and the over-smoothing problem"
   ]
  },
  {
   "attachments": {},
   "cell_type": "markdown",
   "metadata": {},
   "source": [
    "At each new layer, the node representation includes more and more nodes."
   ]
  },
  {
   "attachments": {},
   "cell_type": "markdown",
   "metadata": {},
   "source": [
    "ML Graphs allow prediction of node labels, new links, generated graphs and subgraphs."
   ]
  },
  {
   "attachments": {},
   "cell_type": "markdown",
   "metadata": {},
   "source": [
    "Since Representation Learning is used, there is no feature engineering required.\n",
    "\n",
    "We map nodes to d dimensionnal embeddings vectors."
   ]
  },
  {
   "cell_type": "markdown",
   "metadata": {},
   "source": [
    "# Applications of Graph ML"
   ]
  },
  {
   "attachments": {},
   "cell_type": "markdown",
   "metadata": {},
   "source": [
    "Classic Tasks:\n",
    "\n",
    "* Node classification: predict a property of a node (recommender system: online user/item) \n",
    "* Link prediction: predict whether there are missing links between nodes\n",
    "* Graph classification: Categorize different graphs (molecule property prediction)\n",
    "* Clustering: Detect if nodes form a community\n",
    "* Graph generation: Drug discovery\n",
    "* Graph evolution: Physical simulation\n",
    "\n",
    "\n",
    "Example we can think of are AlphaFold models which led to solving new protein folding.\n",
    "Google map GNN to predict traffic."
   ]
  },
  {
   "attachments": {},
   "cell_type": "markdown",
   "metadata": {},
   "source": [
    "# Traditional methods : Graphlets, Graph Kernels"
   ]
  },
  {
   "attachments": {},
   "cell_type": "markdown",
   "metadata": {},
   "source": [
    "# Methods for node embeddings: DeepWalk, Node2Vec"
   ]
  },
  {
   "attachments": {},
   "cell_type": "markdown",
   "metadata": {},
   "source": [
    "# Graph Neural Networks: GCN, GraphSAGE, GAT, GNN"
   ]
  },
  {
   "attachments": {},
   "cell_type": "markdown",
   "metadata": {},
   "source": [
    "# Deep generative models for graphs"
   ]
  },
  {
   "attachments": {},
   "cell_type": "markdown",
   "metadata": {},
   "source": [
    "# Applications"
   ]
  },
  {
   "cell_type": "markdown",
   "metadata": {},
   "source": []
  }
 ],
 "metadata": {
  "language_info": {
   "name": "python"
  },
  "orig_nbformat": 4
 },
 "nbformat": 4,
 "nbformat_minor": 2
}
